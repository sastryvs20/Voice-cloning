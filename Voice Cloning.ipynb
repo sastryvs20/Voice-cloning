{
 "cells": [
  {
   "cell_type": "code",
   "execution_count": 1,
   "id": "e850bdd7",
   "metadata": {},
   "outputs": [
    {
     "name": "stdout",
     "output_type": "stream",
     "text": [
      "Speech to be Translated: United States spends more money and education than any other country in the world and yet we get the worst outcomes with the bottom of every list in total American Society pores more than a trillion dollars into public education systems of the last we are literally right now living\n",
      "Translated Speech: संयुक्त राज्य अमेरिका दुनिया के किसी भी अन्य देश की तुलना में अधिक पैसा और शिक्षा खर्च करता है और फिर भी हमें सबसे खराब परिणाम मिलते हैं, कुल अमेरिकी समाज में हर सूची में सबसे नीचे सार्वजनिक शिक्षा प्रणालियों में एक ट्रिलियन डॉलर से अधिक का निवेश होता है, हम वास्तव में अभी जी रहे हैं।\n"
     ]
    }
   ],
   "source": [
    "import speech_recognition as spr\n",
    "from deep_translator import GoogleTranslator\n",
    "from gtts import gTTS\n",
    "import os\n",
    "\n",
    "# Creating Recognizer() class object\n",
    "recog = spr.Recognizer()\n",
    "\n",
    "# Input audio file\n",
    "input_audio = \"C:\\\\Users\\\\sastr\\\\Downloads\\\\Standard recording 10.mp3\"  # Change this to the path of your English audio file\n",
    "\n",
    "# Language codes\n",
    "from_lang = 'hi'\n",
    "to_lang = 'en'\n",
    "\n",
    "# Recognize the speech from the audio file\n",
    "with spr.AudioFile(input_audio) as source:\n",
    "    audio_text = recog.record(source)\n",
    "    try:\n",
    "        # Using recognize_google() method to convert audio into text\n",
    "        recognized_text = recog.recognize_google(audio_text)\n",
    "        print(\"Speech to be Translated: \" + recognized_text)\n",
    "        \n",
    "        # Translate the recognized text using deep_translator\n",
    "        translated_sentence = GoogleTranslator(source=from_lang, target=to_lang).translate(recognized_text)\n",
    "        print(\"Translated Speech: \" + translated_sentence)\n",
    "        \n",
    "        # Convert translated text to speech in Hindi\n",
    "        translated_audio = gTTS(text=translated_sentence, lang=to_lang, slow=False)\n",
    "        translated_audio.save(\"translated_audio.mp3\")\n",
    "        \n",
    "        # Play the translated audio\n",
    "        os.system(\"start translated_audio.mp3\")\n",
    "        \n",
    "    except spr.UnknownValueError:\n",
    "        print(\"Unable to Recognize the Audio\")\n",
    "    except Exception as e:\n",
    "        print(\"Error during translation: {}\".format(e))\n"
   ]
  },
  {
   "cell_type": "code",
   "execution_count": null,
   "id": "ca132775",
   "metadata": {},
   "outputs": [],
   "source": []
  }
 ],
 "metadata": {
  "kernelspec": {
   "display_name": "Python 3 (ipykernel)",
   "language": "python",
   "name": "python3"
  },
  "language_info": {
   "codemirror_mode": {
    "name": "ipython",
    "version": 3
   },
   "file_extension": ".py",
   "mimetype": "text/x-python",
   "name": "python",
   "nbconvert_exporter": "python",
   "pygments_lexer": "ipython3",
   "version": "3.11.5"
  }
 },
 "nbformat": 4,
 "nbformat_minor": 5
}
